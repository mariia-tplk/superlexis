{
 "cells": [
  {
   "cell_type": "code",
   "execution_count": 4,
   "id": "c6cf5b01-6a27-4ca1-892e-a09f21b9316b",
   "metadata": {},
   "outputs": [],
   "source": [
    "from tqdm import tqdm\n",
    "import pandas as pd"
   ]
  },
  {
   "cell_type": "code",
   "execution_count": 23,
   "id": "734329f5-6a41-4ae2-a0fe-e632a522a0b7",
   "metadata": {},
   "outputs": [
    {
     "name": "stderr",
     "output_type": "stream",
     "text": [
      "100%|████████████████████████████████████████████████████████████████████████████████████| 4/4 [00:00<00:00,  4.38it/s]"
     ]
    },
    {
     "name": "stdout",
     "output_type": "stream",
     "text": [
      "Length of df equals sum of seperate dataframes = True.\n"
     ]
    },
    {
     "name": "stderr",
     "output_type": "stream",
     "text": [
      "\n"
     ]
    }
   ],
   "source": [
    "countries = [\"NL\", \"ES\", \"UK\", \"FR\"]\n",
    "\n",
    "df = []\n",
    "\n",
    "length = 0\n",
    "\n",
    "for c in tqdm(countries):\n",
    "    globals()[c] = pd.read_csv(f\"data\\\\{c}.csv\")\n",
    "    globals()[c][\"country\"] = c\n",
    "    \n",
    "    length += len(globals()[c])\n",
    "    \n",
    "    df.append(globals()[c])\n",
    "\n",
    "df = pd.concat(df, ignore_index = True)\n",
    "df = df.loc[:, ~df.columns.str.contains(\"^Unnamed\")]\n",
    "\n",
    "print(f\"Length of df equals sum of seperate dataframes = {len(df) == length}.\")"
   ]
  },
  {
   "cell_type": "code",
   "execution_count": 29,
   "id": "c6a326e9-246a-477a-9dc6-69f238978201",
   "metadata": {},
   "outputs": [
    {
     "data": {
      "text/plain": [
       "0.07"
      ]
     },
     "execution_count": 29,
     "metadata": {},
     "output_type": "execute_result"
    }
   ],
   "source": [
    "round(1 - df[\"datePublished\"].str.contains(r\"\\d\", na=False).mean(), 2)"
   ]
  },
  {
   "cell_type": "code",
   "execution_count": null,
   "id": "0b7046a8-20dc-4d43-a925-a581eb13e2f7",
   "metadata": {},
   "outputs": [],
   "source": []
  }
 ],
 "metadata": {
  "kernelspec": {
   "display_name": "Python 3 (ipykernel)",
   "language": "python",
   "name": "python3"
  },
  "language_info": {
   "codemirror_mode": {
    "name": "ipython",
    "version": 3
   },
   "file_extension": ".py",
   "mimetype": "text/x-python",
   "name": "python",
   "nbconvert_exporter": "python",
   "pygments_lexer": "ipython3",
   "version": "3.12.3"
  }
 },
 "nbformat": 4,
 "nbformat_minor": 5
}
