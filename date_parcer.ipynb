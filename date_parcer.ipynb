{
 "cells": [
  {
   "cell_type": "code",
   "execution_count": 1,
   "id": "42cd150e-88d8-4559-8566-f141d023df0e",
   "metadata": {},
   "outputs": [],
   "source": [
    "import pandas as pd\n",
    "import re\n",
    "import os\n",
    "import locale\n",
    "from datetime import datetime\n",
    "from dateutil import parser"
   ]
  },
  {
   "cell_type": "code",
   "execution_count": 3,
   "id": "e4888d54-ef9f-4d79-9302-49d2967f26e6",
   "metadata": {},
   "outputs": [
    {
     "data": {
      "text/html": [
       "<div>\n",
       "<style scoped>\n",
       "    .dataframe tbody tr th:only-of-type {\n",
       "        vertical-align: middle;\n",
       "    }\n",
       "\n",
       "    .dataframe tbody tr th {\n",
       "        vertical-align: top;\n",
       "    }\n",
       "\n",
       "    .dataframe thead th {\n",
       "        text-align: right;\n",
       "    }\n",
       "</style>\n",
       "<table border=\"1\" class=\"dataframe\">\n",
       "  <thead>\n",
       "    <tr style=\"text-align: right;\">\n",
       "      <th></th>\n",
       "      <th>Unnamed: 0</th>\n",
       "      <th>headline</th>\n",
       "      <th>news_source</th>\n",
       "      <th>datePublished</th>\n",
       "      <th>region</th>\n",
       "      <th>articleSection</th>\n",
       "      <th>length</th>\n",
       "      <th>byline</th>\n",
       "      <th>text</th>\n",
       "      <th>highlight</th>\n",
       "      <th>translated</th>\n",
       "      <th>country</th>\n",
       "    </tr>\n",
       "  </thead>\n",
       "  <tbody>\n",
       "    <tr>\n",
       "      <th>0</th>\n",
       "      <td>1</td>\n",
       "      <td>Het Lombokplein wordt te gevaarlijk'; Bus- en ...</td>\n",
       "      <td>de telegraaf</td>\n",
       "      <td>April 19, 2023 Wednesday</td>\n",
       "      <td>Utrecht</td>\n",
       "      <td>REGIO; Blz. 12</td>\n",
       "      <td>423 words</td>\n",
       "      <td>Michiel</td>\n",
       "      <td>Bus- en tramkruising terug naar tekentafel doo...</td>\n",
       "      <td>NaN</td>\n",
       "      <td>Bus and tram intersection back to drawing boar...</td>\n",
       "      <td>NL</td>\n",
       "    </tr>\n",
       "    <tr>\n",
       "      <th>1</th>\n",
       "      <td>2</td>\n",
       "      <td>Utrecht is echt een fietshemel'; Route Vuelta ...</td>\n",
       "      <td>de telegraaf</td>\n",
       "      <td>April 20, 2023 Thursday</td>\n",
       "      <td>Nederland</td>\n",
       "      <td>BINNENLAND; Blz. 12</td>\n",
       "      <td>276 words</td>\n",
       "      <td>Eric Roeske</td>\n",
       "      <td>Route Vuelta ligt er strak bij  door  Eric Roe...</td>\n",
       "      <td>NaN</td>\n",
       "      <td>Route Vuelta is in good shape by Eric Roeske U...</td>\n",
       "      <td>NL</td>\n",
       "    </tr>\n",
       "    <tr>\n",
       "      <th>2</th>\n",
       "      <td>4</td>\n",
       "      <td>Als de auto wegvalt, crasht de economie'; Bran...</td>\n",
       "      <td>de telegraaf</td>\n",
       "      <td>April 21, 2023 Friday</td>\n",
       "      <td>Haaglanden</td>\n",
       "      <td>REGIO; Blz. 13</td>\n",
       "      <td>447 words</td>\n",
       "      <td>Ingrid de Groot</td>\n",
       "      <td>Brandbrief honderden ondernemers over plannen ...</td>\n",
       "      <td>NaN</td>\n",
       "      <td>Urgent letter to hundreds of entrepreneurs abo...</td>\n",
       "      <td>NL</td>\n",
       "    </tr>\n",
       "    <tr>\n",
       "      <th>3</th>\n",
       "      <td>5</td>\n",
       "      <td>Beseffen jullie wel hoe perféct Amsterdam is?'...</td>\n",
       "      <td>nrc handelsblad</td>\n",
       "      <td>April 22, 2023 Saturday</td>\n",
       "      <td>1ste Editie</td>\n",
       "      <td>AMSTERDAM; Blz. 1</td>\n",
       "      <td>1992 words</td>\n",
       "      <td>Stan Putman Foto Simon Lenskens</td>\n",
       "      <td>ABSTRACT Not Just Bikes De filmpjes die de Can...</td>\n",
       "      <td>NaN</td>\n",
       "      <td>ABSTRACT Not Just Bikes The videos that Canadi...</td>\n",
       "      <td>NL</td>\n",
       "    </tr>\n",
       "    <tr>\n",
       "      <th>4</th>\n",
       "      <td>6</td>\n",
       "      <td>Bewijs dat betaalbare woning nog steeds kan'; ...</td>\n",
       "      <td>de telegraaf</td>\n",
       "      <td>April 23, 2023 Sunday</td>\n",
       "      <td>Nederland</td>\n",
       "      <td>FINANCIEEL; Blz. 25</td>\n",
       "      <td>627 words</td>\n",
       "      <td>Yteke de Jong</td>\n",
       "      <td>Aannemer Van Wijnen schroeft bouwproductie op ...</td>\n",
       "      <td>NaN</td>\n",
       "      <td>Contractor Van Wijnen increases construction p...</td>\n",
       "      <td>NL</td>\n",
       "    </tr>\n",
       "  </tbody>\n",
       "</table>\n",
       "</div>"
      ],
      "text/plain": [
       "   Unnamed: 0                                           headline  \\\n",
       "0           1  Het Lombokplein wordt te gevaarlijk'; Bus- en ...   \n",
       "1           2  Utrecht is echt een fietshemel'; Route Vuelta ...   \n",
       "2           4  Als de auto wegvalt, crasht de economie'; Bran...   \n",
       "3           5  Beseffen jullie wel hoe perféct Amsterdam is?'...   \n",
       "4           6  Bewijs dat betaalbare woning nog steeds kan'; ...   \n",
       "\n",
       "       news_source             datePublished       region  \\\n",
       "0     de telegraaf  April 19, 2023 Wednesday      Utrecht   \n",
       "1     de telegraaf   April 20, 2023 Thursday    Nederland   \n",
       "2     de telegraaf     April 21, 2023 Friday   Haaglanden   \n",
       "3  nrc handelsblad   April 22, 2023 Saturday  1ste Editie   \n",
       "4     de telegraaf     April 23, 2023 Sunday    Nederland   \n",
       "\n",
       "        articleSection      length                           byline  \\\n",
       "0       REGIO; Blz. 12   423 words                          Michiel   \n",
       "1  BINNENLAND; Blz. 12   276 words                      Eric Roeske   \n",
       "2       REGIO; Blz. 13   447 words                  Ingrid de Groot   \n",
       "3    AMSTERDAM; Blz. 1  1992 words  Stan Putman Foto Simon Lenskens   \n",
       "4  FINANCIEEL; Blz. 25   627 words                    Yteke de Jong   \n",
       "\n",
       "                                                text highlight  \\\n",
       "0  Bus- en tramkruising terug naar tekentafel doo...       NaN   \n",
       "1  Route Vuelta ligt er strak bij  door  Eric Roe...       NaN   \n",
       "2  Brandbrief honderden ondernemers over plannen ...       NaN   \n",
       "3  ABSTRACT Not Just Bikes De filmpjes die de Can...       NaN   \n",
       "4  Aannemer Van Wijnen schroeft bouwproductie op ...       NaN   \n",
       "\n",
       "                                          translated country  \n",
       "0  Bus and tram intersection back to drawing boar...      NL  \n",
       "1  Route Vuelta is in good shape by Eric Roeske U...      NL  \n",
       "2  Urgent letter to hundreds of entrepreneurs abo...      NL  \n",
       "3  ABSTRACT Not Just Bikes The videos that Canadi...      NL  \n",
       "4  Contractor Van Wijnen increases construction p...      NL  "
      ]
     },
     "execution_count": 3,
     "metadata": {},
     "output_type": "execute_result"
    }
   ],
   "source": [
    "#data_es = pd.read_csv('/Users/paulinesmirnova/Documents/GitHub/superlexis/data/ES_DATA.csv')\n",
    "#data_uk = pd.read_csv('/Users/paulinesmirnova/Documents/GitHub/superlexis/data/UK_DATA.csv')\n",
    "#data_fr = pd.read_csv('/Users/paulinesmirnova/Documents/GitHub/superlexis/data/FR_DATA.csv')\n",
    "#data_nl = pd.read_csv('/Users/paulinesmirnova/Documents/GitHub/superlexis/data/NL_data_translated.csv.csv')\n",
    "data = pd.read_csv('/Users/paulinesmirnova/Documents/GitHub/superlexis/master_data.csv')\n",
    "data.head()"
   ]
  },
  {
   "cell_type": "code",
   "execution_count": 5,
   "id": "09b94252-30c8-45b6-a597-6551299fa66c",
   "metadata": {},
   "outputs": [
    {
     "name": "stderr",
     "output_type": "stream",
     "text": [
      "/var/folders/98/bbr4z_5s1yj02ygmn84xmtwc0000gn/T/ipykernel_10753/2740884162.py:8: FutureWarning: DataFrame.applymap has been deprecated. Use DataFrame.map instead.\n",
      "  data = data.applymap(to_lowercase)\n"
     ]
    }
   ],
   "source": [
    "# Convert all text in all columns to lowercase\n",
    "def to_lowercase(text):\n",
    "    if isinstance(text, str):\n",
    "        return text.lower()\n",
    "    return text\n",
    "\n",
    "# Apply the lowercase conversion to all columns\n",
    "data = data.applymap(to_lowercase)"
   ]
  },
  {
   "cell_type": "markdown",
   "id": "1ca4f499-44b6-4c98-9edd-2f6d701b8a82",
   "metadata": {},
   "source": [
    "## Date function for English language"
   ]
  },
  {
   "cell_type": "code",
   "execution_count": 13,
   "id": "543eb68f-42b0-4a3c-81f0-305d9d76859c",
   "metadata": {},
   "outputs": [],
   "source": [
    "def extract_and_format_date(date_str):\n",
    "    try:\n",
    "        date_obj = parser.parse(date_str, fuzzy=True)\n",
    "        return date_obj.strftime(\"%d/%m/%Y\")\n",
    "    except Exception as e:\n",
    "        print(f\"Error parsing date '{date_str}': {e}\")\n",
    "        return None\n",
    "\n",
    "# Function to apply to each row in the DataFrame\n",
    "def extract_and_format_dates_in_df(df, column_name):\n",
    "    df['date'] = df[column_name].apply(extract_and_format_date)\n",
    "    return df\n",
    "\n",
    "# Apply the function to create a new column 'formatted_date'\n",
    "data = extract_and_format_dates_in_df(data, 'datePublished')"
   ]
  },
  {
   "cell_type": "code",
   "execution_count": 15,
   "id": "6a4ebb88-245c-4a1d-b484-f846b0c576a6",
   "metadata": {},
   "outputs": [
    {
     "data": {
      "text/plain": [
       "0       19/04/2023\n",
       "1       20/04/2023\n",
       "2       21/04/2023\n",
       "3       22/04/2023\n",
       "4       23/04/2023\n",
       "           ...    \n",
       "5360    28/12/2016\n",
       "5361    06/03/2009\n",
       "5362    22/01/2014\n",
       "5363    15/08/2018\n",
       "5364    07/07/2016\n",
       "Name: date, Length: 5365, dtype: object"
      ]
     },
     "execution_count": 15,
     "metadata": {},
     "output_type": "execute_result"
    }
   ],
   "source": [
    "data.date"
   ]
  },
  {
   "cell_type": "code",
   "execution_count": 17,
   "id": "b3682781-7873-4c4e-8d39-a8d5977fa633",
   "metadata": {},
   "outputs": [
    {
     "data": {
      "text/plain": [
       "0"
      ]
     },
     "execution_count": 17,
     "metadata": {},
     "output_type": "execute_result"
    }
   ],
   "source": [
    "data.date.isna().sum()"
   ]
  },
  {
   "cell_type": "code",
   "execution_count": 19,
   "id": "738110a1-576c-44d2-89e8-bd19a471e333",
   "metadata": {},
   "outputs": [
    {
     "data": {
      "text/plain": [
       "date\n",
       "21/12/2023    13\n",
       "23/02/2024    11\n",
       "01/06/2024    10\n",
       "13/04/2024    10\n",
       "08/09/2023     9\n",
       "              ..\n",
       "03/09/2015     1\n",
       "07/05/2020     1\n",
       "05/03/2020     1\n",
       "19/08/2021     1\n",
       "06/03/2009     1\n",
       "Name: count, Length: 2928, dtype: int64"
      ]
     },
     "execution_count": 19,
     "metadata": {},
     "output_type": "execute_result"
    }
   ],
   "source": [
    "data.date.value_counts()"
   ]
  },
  {
   "cell_type": "code",
   "execution_count": null,
   "id": "4f19032b-77b3-403f-a11b-0e3762b7c6c2",
   "metadata": {},
   "outputs": [],
   "source": []
  }
 ],
 "metadata": {
  "kernelspec": {
   "display_name": "Python 3 (ipykernel)",
   "language": "python",
   "name": "python3"
  },
  "language_info": {
   "codemirror_mode": {
    "name": "ipython",
    "version": 3
   },
   "file_extension": ".py",
   "mimetype": "text/x-python",
   "name": "python",
   "nbconvert_exporter": "python",
   "pygments_lexer": "ipython3",
   "version": "3.11.7"
  }
 },
 "nbformat": 4,
 "nbformat_minor": 5
}
