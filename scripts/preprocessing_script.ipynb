{
 "cells": [
  {
   "cell_type": "code",
   "execution_count": 263,
   "id": "c6cf5b01-6a27-4ca1-892e-a09f21b9316b",
   "metadata": {},
   "outputs": [],
   "source": [
    "from tqdm import tqdm\n",
    "import pandas as pd\n",
    "import re\n",
    "from langdetect import detect\n",
    "from translate import Translator\n",
    "from tqdm import tqdm; tqdm.pandas()\n",
    "import os\n",
    "import locale\n",
    "from datetime import datetime\n",
    "from dateutil import parser\n",
    "from textblob import TextBlob"
   ]
  },
  {
   "cell_type": "markdown",
   "id": "2c38c069-1b72-479c-b19e-957ec8c94a0b",
   "metadata": {},
   "source": [
    "## merging data"
   ]
  },
  {
   "cell_type": "code",
   "execution_count": 264,
   "id": "734329f5-6a41-4ae2-a0fe-e632a522a0b7",
   "metadata": {},
   "outputs": [
    {
     "name": "stderr",
     "output_type": "stream",
     "text": [
      "100%|████████████████████████████████████████████████████████████████████████████████████| 6/6 [00:01<00:00,  4.57it/s]"
     ]
    },
    {
     "name": "stdout",
     "output_type": "stream",
     "text": [
      "Length of df equals sum of seperate dataframes = True.\n"
     ]
    },
    {
     "name": "stderr",
     "output_type": "stream",
     "text": [
      "\n"
     ]
    }
   ],
   "source": [
    "countries = [\"NL\", \"ES\", \"UK\", \"FR\", \"DE\", \"IT\"]\n",
    "\n",
    "df = []\n",
    "\n",
    "length = 0\n",
    "\n",
    "for c in tqdm(countries):\n",
    "    globals()[c] = pd.read_csv(f\"data\\\\{c}.csv\")\n",
    "    globals()[c][\"country\"] = c\n",
    "    \n",
    "    length += len(globals()[c])\n",
    "    \n",
    "    df.append(globals()[c])\n",
    "\n",
    "df = pd.concat(df, ignore_index = True)\n",
    "df = df.loc[:, ~df.columns.str.contains(\"^Unnamed\")]\n",
    "\n",
    "print(f\"Length of df equals sum of seperate dataframes = {len(df) == length}.\")"
   ]
  },
  {
   "cell_type": "markdown",
   "id": "e3faeb29-e226-46ca-91c9-bc02edcf40f6",
   "metadata": {},
   "source": [
    "## filtering wrong columns"
   ]
  },
  {
   "cell_type": "code",
   "execution_count": 265,
   "id": "c6a326e9-246a-477a-9dc6-69f238978201",
   "metadata": {},
   "outputs": [
    {
     "data": {
      "text/plain": [
       "0.04"
      ]
     },
     "execution_count": 265,
     "metadata": {},
     "output_type": "execute_result"
    }
   ],
   "source": [
    "round(1 - df[\"datePublished\"].str.contains(r\"\\d\", na=False).mean(), 2)"
   ]
  },
  {
   "cell_type": "code",
   "execution_count": 266,
   "id": "2daec21d-f04c-4b51-91bc-4a91d793d095",
   "metadata": {},
   "outputs": [],
   "source": [
    "df.to_csv(\"data\\\\merged.csv\")"
   ]
  },
  {
   "cell_type": "code",
   "execution_count": 267,
   "id": "037c654b-bbd1-4ffa-abbc-e2abe0731539",
   "metadata": {},
   "outputs": [],
   "source": [
    "df = pd.read_csv(\"data\\\\merged.csv\", index_col=0)"
   ]
  },
  {
   "cell_type": "code",
   "execution_count": 268,
   "id": "0b7046a8-20dc-4d43-a925-a581eb13e2f7",
   "metadata": {},
   "outputs": [],
   "source": [
    "def fix_columns(df):\n",
    "    for idx in df.index:\n",
    "        if pd.isnull(df.loc[idx, 'news_source']):\n",
    "            df.loc[idx, 'news_source'] = df.loc[idx, 'datePublished']\n",
    "            df.loc[idx, 'datePublished'] = df.loc[idx, 'region']\n",
    "            df.loc[idx, 'region'] = None\n",
    "    return df\n",
    "\n",
    "df_fixed = fix_columns(df)"
   ]
  },
  {
   "cell_type": "code",
   "execution_count": 269,
   "id": "5828e5c0-e8a5-4acd-bbc1-e849b9ab0929",
   "metadata": {},
   "outputs": [
    {
     "data": {
      "text/plain": [
       "0.01"
      ]
     },
     "execution_count": 269,
     "metadata": {},
     "output_type": "execute_result"
    }
   ],
   "source": [
    "round(1 - df[\"datePublished\"].str.contains(r\"\\d\", na=False).mean(), 2)"
   ]
  },
  {
   "cell_type": "code",
   "execution_count": 270,
   "id": "36ff443b-ca16-496a-adb8-1de62558756e",
   "metadata": {},
   "outputs": [],
   "source": [
    "df_filtered = df_fixed[df_fixed[\"datePublished\"].str.contains(r\"\\d\", na=False)]"
   ]
  },
  {
   "cell_type": "code",
   "execution_count": 271,
   "id": "d7d12943-1a80-4768-9b40-e3a6c179165c",
   "metadata": {},
   "outputs": [
    {
     "data": {
      "text/plain": [
       "array(['De Telegraaf', 'NRC Handelsblad',\n",
       "       'De Grote Prijs van Nederland wordt vanaf 2020 weer verreden op Circuit Zandvoort sport ; Formule 1 in Zandvoort',\n",
       "       'El Pais', 'El Mundo', 'La bicis vuelven a su origen.',\n",
       "       'Una ciudad a pedales.', 'The Daily Telegraph (London)',\n",
       "       'The Daily Telegraph (LONDON)', 'The Guardian',\n",
       "       'THE DAILY TELEGRAPH(LONDON)', 'Libération', 'Le Figaro',\n",
       "       'Allgemeine Zeitung (Germany)', 'Der Spiegel', 'La Stampa',\n",
       "       'ItaliaOggi'], dtype=object)"
      ]
     },
     "execution_count": 271,
     "metadata": {},
     "output_type": "execute_result"
    }
   ],
   "source": [
    "df_filtered.news_source.unique()"
   ]
  },
  {
   "cell_type": "code",
   "execution_count": 272,
   "id": "83a1bbeb-96ee-49aa-8ad0-07d573fc707f",
   "metadata": {},
   "outputs": [],
   "source": [
    "df_filtered = df_filtered[~df_filtered[\"news_source\"].str.contains(r\"[.;]\", na=False)]"
   ]
  },
  {
   "cell_type": "markdown",
   "id": "3a3cad77-51e9-4996-ad54-f1037d6267c8",
   "metadata": {},
   "source": [
    "## streamlining newspaper names"
   ]
  },
  {
   "cell_type": "code",
   "execution_count": 273,
   "id": "a4c78353-bb79-48d0-aa7f-13bd04a2f25c",
   "metadata": {},
   "outputs": [],
   "source": [
    "def rename_newspaper(x):\n",
    "    x = str(x).lower()\n",
    "    if \"telegraph\" in x:\n",
    "        x = \"the daily telegraph\"\n",
    "    elif \"allgemeine zeitung\" in x:\n",
    "        x = \"allgemeine zeitung\"\n",
    "    return x"
   ]
  },
  {
   "cell_type": "code",
   "execution_count": 274,
   "id": "f9f30f84-b09a-4c2c-ad64-0d6425f09470",
   "metadata": {},
   "outputs": [],
   "source": [
    "df_filtered[\"news_source\"] = df.news_source.apply(lambda x: rename_newspaper(x))"
   ]
  },
  {
   "cell_type": "code",
   "execution_count": 275,
   "id": "52d952ed-f8e4-4d86-add4-f1a834a8ea8b",
   "metadata": {
    "scrolled": true
   },
   "outputs": [
    {
     "data": {
      "text/plain": [
       "news_source\n",
       "allgemeine zeitung     962\n",
       "de telegraaf           536\n",
       "der spiegel             20\n",
       "el mundo               306\n",
       "el pais                589\n",
       "italiaoggi             400\n",
       "la stampa              499\n",
       "le figaro              655\n",
       "libération             226\n",
       "nrc handelsblad        188\n",
       "the daily telegraph    973\n",
       "the guardian            11\n",
       "dtype: int64"
      ]
     },
     "execution_count": 275,
     "metadata": {},
     "output_type": "execute_result"
    }
   ],
   "source": [
    "df_filtered.groupby(\"news_source\").size()"
   ]
  },
  {
   "cell_type": "code",
   "execution_count": 276,
   "id": "22bb8cf2-0932-41e1-9f76-01063dee9942",
   "metadata": {},
   "outputs": [],
   "source": [
    "df_filtered.to_csv(\"data\\\\master_data.csv\")"
   ]
  },
  {
   "cell_type": "code",
   "execution_count": 277,
   "id": "8acda3d2-8aad-4d90-907b-db66735619f5",
   "metadata": {},
   "outputs": [],
   "source": [
    "df_master = pd.read_csv(\"data\\\\master_data_translated.csv\", index_col=0)"
   ]
  },
  {
   "cell_type": "markdown",
   "id": "a28414c8-cdcd-422d-8579-df468656979b",
   "metadata": {},
   "source": [
    "## parsing dates"
   ]
  },
  {
   "cell_type": "code",
   "execution_count": 279,
   "id": "418b573d-2359-46a3-bd5d-161cf23939ce",
   "metadata": {},
   "outputs": [],
   "source": [
    "def extract_and_format_date(date_str):\n",
    "    try:\n",
    "        date_obj = parser.parse(date_str, fuzzy=True)\n",
    "        return date_obj.strftime(\"%d/%m/%Y\")\n",
    "    except Exception as e:\n",
    "        print(f\"Error parsing date '{date_str}': {e}\")\n",
    "        return None\n",
    "    \n",
    "df_master[\"datePublished_clean\"] = df_master.datePublished.apply(extract_and_format_date)"
   ]
  },
  {
   "cell_type": "code",
   "execution_count": 283,
   "id": "9995e68b-b59e-40bb-b936-e59a7637fcfd",
   "metadata": {},
   "outputs": [],
   "source": [
    "df_master.to_csv(\"data\\\\supreme_data.csv\")"
   ]
  },
  {
   "cell_type": "code",
   "execution_count": 284,
   "id": "a355475b-8643-4e06-944c-b335eb89a116",
   "metadata": {},
   "outputs": [],
   "source": [
    "df_supreme = pd.read_csv(\"data\\\\supreme_data.csv\", index_col=0)"
   ]
  },
  {
   "cell_type": "markdown",
   "id": "c5ee000b-7a69-4289-b91d-6c484c4c38b0",
   "metadata": {},
   "source": [
    "## sentiment scores"
   ]
  },
  {
   "cell_type": "code",
   "execution_count": 235,
   "id": "7a830c19-7deb-4893-8855-6caffb496671",
   "metadata": {},
   "outputs": [],
   "source": [
    "def get_sentiment_spacey(text):\n",
    "    blob = TextBlob(text).sentiment.polarity\n",
    "    return blob.sentiment.polarity"
   ]
  },
  {
   "cell_type": "code",
   "execution_count": 243,
   "id": "49fcd3f1-e386-4d90-a732-afb072cd4bc5",
   "metadata": {},
   "outputs": [
    {
     "name": "stderr",
     "output_type": "stream",
     "text": [
      "100%|█████████████████████████████████████████████████████████████████████████████| 5365/5365 [00:31<00:00, 170.01it/s]\n"
     ]
    }
   ],
   "source": [
    "df_supreme[\"sentiment_spacey\"] = df_supreme.translated.progress_apply(lambda x: TextBlob(str(x)).sentiment.polarity)"
   ]
  },
  {
   "cell_type": "markdown",
   "id": "837e3cd6-f21e-43dc-9f4f-7de02c0cb8d5",
   "metadata": {},
   "source": [
    "## topic modelling"
   ]
  },
  {
   "cell_type": "code",
   "execution_count": 170,
   "id": "31e1f0eb-a667-4728-b403-98e02fce8eeb",
   "metadata": {},
   "outputs": [
    {
     "ename": "NameError",
     "evalue": "name 'KeyBERTInspired' is not defined",
     "output_type": "error",
     "traceback": [
      "\u001b[1;31m---------------------------------------------------------------------------\u001b[0m",
      "\u001b[1;31mNameError\u001b[0m                                 Traceback (most recent call last)",
      "Cell \u001b[1;32mIn[170], line 2\u001b[0m\n\u001b[0;32m      1\u001b[0m docs \u001b[38;5;241m=\u001b[39m df_master\u001b[38;5;241m.\u001b[39mtranslated\u001b[38;5;241m.\u001b[39mto_list()\n\u001b[1;32m----> 2\u001b[0m representation_model \u001b[38;5;241m=\u001b[39m \u001b[43mKeyBERTInspired\u001b[49m()\n\u001b[0;32m      3\u001b[0m topic_model \u001b[38;5;241m=\u001b[39m BERTopic(representation_model\u001b[38;5;241m=\u001b[39mrepresentation_model, language\u001b[38;5;241m=\u001b[39m\u001b[38;5;124m\"\u001b[39m\u001b[38;5;124mmultilingual\u001b[39m\u001b[38;5;124m\"\u001b[39m)\n\u001b[0;32m      4\u001b[0m topics, probs \u001b[38;5;241m=\u001b[39m topic_model\u001b[38;5;241m.\u001b[39mfit_transform(docs)\n",
      "\u001b[1;31mNameError\u001b[0m: name 'KeyBERTInspired' is not defined"
     ]
    }
   ],
   "source": [
    "docs = df_supreme.translated.to_list()\n",
    "representation_model = KeyBERTInspired()\n",
    "topic_model = BERTopic(representation_model=representation_model, language=\"multilingual\")\n",
    "topics, probs = topic_model.fit_transform(docs)\n",
    "topic_model.get_document_info(docs)[\"Name\"]\n",
    "df_supreme[\"topic_bert\"] = topic_model.get_document_info(docs)[\"Name\"].values"
   ]
  },
  {
   "cell_type": "markdown",
   "id": "6beb9bfc-e05f-4739-a716-80bf6a29bbd2",
   "metadata": {},
   "source": [
    "## bin"
   ]
  },
  {
   "cell_type": "raw",
   "id": "333ba7c9-a6b5-427a-9d35-949c37bbcbe2",
   "metadata": {},
   "source": [
    "def get_translation(lang, text):\n",
    "    lang = lang.lower()\n",
    "    if lang == \"en\":\n",
    "        return text\n",
    "    else:\n",
    "        translator = Translator(from_lang = lang, to_lang=\"en\")\n",
    "        translation = translator.translate(text)\n",
    "        return translation"
   ]
  },
  {
   "cell_type": "raw",
   "id": "47df7b4d-a70c-4b58-92e4-138f1b27d48f",
   "metadata": {},
   "source": [
    "df_filtered[\"datePublished\"] = df_filtered.progress_apply(lambda row: get_translation(row[\"datePublished\"], row[\"country\"]), axis=1)"
   ]
  },
  {
   "cell_type": "raw",
   "id": "76ae4117-5a1b-42a7-9aab-2b28e95df34e",
   "metadata": {},
   "source": [
    "df_filtered.datePublished"
   ]
  }
 ],
 "metadata": {
  "kernelspec": {
   "display_name": "Python 3 (ipykernel)",
   "language": "python",
   "name": "python3"
  },
  "language_info": {
   "codemirror_mode": {
    "name": "ipython",
    "version": 3
   },
   "file_extension": ".py",
   "mimetype": "text/x-python",
   "name": "python",
   "nbconvert_exporter": "python",
   "pygments_lexer": "ipython3",
   "version": "3.11.7"
  }
 },
 "nbformat": 4,
 "nbformat_minor": 5
}
