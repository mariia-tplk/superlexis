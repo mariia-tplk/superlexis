{
 "cells": [
  {
   "cell_type": "code",
   "execution_count": 1,
   "id": "42cd150e-88d8-4559-8566-f141d023df0e",
   "metadata": {},
   "outputs": [],
   "source": [
    "import pandas as pd\n",
    "from striprtf.striprtf import rtf_to_text\n",
    "import re\n",
    "import os\n",
    "import locale\n",
    "from datetime import datetime\n",
    "locale.setlocale(locale.LC_TIME, \"nl_NL\")\n",
    "from collections import Counter\n",
    "import matplotlib.pyplot as plt\n",
    "import seaborn as sns\n",
    "import numpy as np"
   ]
  },
  {
   "cell_type": "code",
   "execution_count": 7,
   "id": "0ef6199d-d230-48ba-bb2e-329dd1be1cea",
   "metadata": {},
   "outputs": [],
   "source": [
    "plain_texts = []\n",
    "\n",
    "folder_path = \"NL\"\n",
    "file_names = os.listdir(folder_path)\n",
    "for file_name in file_names:\n",
    "    file_path = os.path.join(folder_path, file_name)\n",
    "    \n",
    "    with open(file_path, \"r\", encoding=\"latin1\") as file:\n",
    "        text = file.read()\n",
    "        text = rtf_to_text(text)\n",
    "        plain_texts.append(text)"
   ]
  },
  {
   "cell_type": "code",
   "execution_count": 26,
   "id": "9c6d9ef3-56f0-43b5-9dd6-13771b5e6846",
   "metadata": {},
   "outputs": [],
   "source": [
    "dct = {}\n",
    "for index, t in enumerate(plain_texts): \n",
    "    dct[str(index)] = {}\n",
    "\n",
    "    #dct[str(index)][\"raw\"] = t\n",
    "    meta = re.search(r\"^(.*?)Copyright\", t, re.DOTALL)\n",
    "    section = re.search(r\"Section:(.*?)\\n\", t)\n",
    "    length = re.search(r\"Length:(.*?)\\n\", t)\n",
    "    byline = re.search(r\"Byline:(.*?)\\n\", t)\n",
    "    highlight = re.search(r\"Highlight:(.*?)\\n\", t)\n",
    "    body = re.search(r\"Body(.*?)Load-Date:\", t.replace(\"\\n\", \" \"))\n",
    "    \n",
    "    if meta:\n",
    "        meta_data = meta.group(1).strip().split(\"\\n\")\n",
    "        dct[str(index)][\"headline\"] = meta_data[0]\n",
    "        dct[str(index)][\"news_source\"] = meta_data[1]\n",
    "        dct[str(index)][\"datePublished\"] = meta_data[2]\n",
    "        if len(meta_data) > 3:\n",
    "            dct[str(index)][\"region\"] = meta_data[3]\n",
    "    if section:\n",
    "        dct[str(index)][\"articleSection\"] = section.group(1).strip()\n",
    "    if length:\n",
    "        dct[str(index)][\"length\"] = length.group(1).strip()\n",
    "    if byline:\n",
    "        dct[str(index)][\"byline\"] = byline.group(1).strip()\n",
    "    if highlight:\n",
    "        dct[str(index)][\"highlight\"] = highlight.group(1).strip()\n",
    "    if body:\n",
    "        dct[str(index)][\"text\"] = body.group(1).strip()"
   ]
  },
  {
   "cell_type": "code",
   "execution_count": 27,
   "id": "75bddbf2-b6dd-44f9-8b87-c2c7843ed059",
   "metadata": {},
   "outputs": [],
   "source": [
    "df_print = pd.DataFrame(dct).transpose()"
   ]
  },
  {
   "cell_type": "code",
   "execution_count": 30,
   "id": "29e8c13c-657c-4cf1-995d-5c4eae8b0019",
   "metadata": {},
   "outputs": [],
   "source": [
    "df_print.to_csv(\"NL_data.csv\")"
   ]
  }
 ],
 "metadata": {
  "kernelspec": {
   "display_name": "Python 3 (ipykernel)",
   "language": "python",
   "name": "python3"
  },
  "language_info": {
   "codemirror_mode": {
    "name": "ipython",
    "version": 3
   },
   "file_extension": ".py",
   "mimetype": "text/x-python",
   "name": "python",
   "nbconvert_exporter": "python",
   "pygments_lexer": "ipython3",
   "version": "3.12.3"
  }
 },
 "nbformat": 4,
 "nbformat_minor": 5
}
