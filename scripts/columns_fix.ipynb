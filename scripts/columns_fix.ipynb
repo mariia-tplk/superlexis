{
 "cells": [
  {
   "cell_type": "code",
   "execution_count": null,
   "id": "d1e93465-384d-4276-8a5f-5e789371aea1",
   "metadata": {},
   "outputs": [],
   "source": [
    "import pandas as pd\n",
    "\n",
    "# Load the CSV file\n",
    "file_path = '/mnt/data/merged.csv'\n",
    "df = pd.read_csv(file_path)\n",
    "\n",
    "# Function to fix the columns\n",
    "def fix_columns(df):\n",
    "    for idx in df.index:\n",
    "        if pd.isnull(df.loc[idx, 'news_source']):\n",
    "            # Move datePublished to news_source\n",
    "            df.loc[idx, 'news_source'] = df.loc[idx, 'datePublished']\n",
    "            # Move region to datePublished\n",
    "            df.loc[idx, 'datePublished'] = df.loc[idx, 'region']\n",
    "            # Clear the region column\n",
    "            df.loc[idx, 'region'] = None\n",
    "    return df\n",
    "\n",
    "# Apply the function\n",
    "df_fixed = fix_columns(df)\n",
    "\n",
    "# Display the updated DataFrame\n",
    "print(df_fixed.head())\n",
    "\n",
    "# Save the fixed DataFrame to a new CSV file\n",
    "#df_fixed.to_csv('/mnt/data/merged_fixed.csv', index=False)#"
   ]
  }
 ],
 "metadata": {
  "kernelspec": {
   "display_name": "Python 3 (ipykernel)",
   "language": "python",
   "name": "python3"
  },
  "language_info": {
   "codemirror_mode": {
    "name": "ipython",
    "version": 3
   },
   "file_extension": ".py",
   "mimetype": "text/x-python",
   "name": "python",
   "nbconvert_exporter": "python",
   "pygments_lexer": "ipython3",
   "version": "3.11.7"
  }
 },
 "nbformat": 4,
 "nbformat_minor": 5
}
